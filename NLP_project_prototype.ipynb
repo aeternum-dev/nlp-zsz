{
  "nbformat": 4,
  "nbformat_minor": 0,
  "metadata": {
    "colab": {
      "provenance": [],
      "collapsed_sections": [
        "8qf3J67RHMOO"
      ],
      "include_colab_link": true
    },
    "kernelspec": {
      "name": "python3",
      "display_name": "Python 3"
    },
    "language_info": {
      "name": "python"
    }
  },
  "cells": [
    {
      "cell_type": "markdown",
      "metadata": {
        "id": "view-in-github",
        "colab_type": "text"
      },
      "source": [
        "<a href=\"https://colab.research.google.com/github/aeternum-dev/nlp-zsz/blob/master/NLP_project_prototype.ipynb\" target=\"_parent\"><img src=\"https://colab.research.google.com/assets/colab-badge.svg\" alt=\"Open In Colab\"/></a>"
      ]
    },
    {
      "cell_type": "markdown",
      "source": [
        "#NLP Project"
      ],
      "metadata": {
        "id": "zIKSHl3WPCXd"
      }
    },
    {
      "cell_type": "markdown",
      "source": [
        "### Loading dependencies [0]"
      ],
      "metadata": {
        "id": "HGCBS2ByPHd1"
      }
    },
    {
      "cell_type": "code",
      "source": [
        "!pip install pandas\n",
        "!pip install requests\n",
        "!pip install bs4\n",
        "!pip install matplotlib\n",
        "!pip install transformers\n",
        "!pip install sentencepiece"
      ],
      "metadata": {
        "id": "460boiZxPGus"
      },
      "execution_count": null,
      "outputs": []
    },
    {
      "cell_type": "code",
      "source": [
        "!rm -r sample_data\n",
        "!rm -r resources\n",
        "!git clone https://github.com/aeternum-dev/nlp-zsz.git\n",
        "!mv nlp-zsz resources"
      ],
      "metadata": {
        "id": "HrUx18uyPeYC"
      },
      "execution_count": null,
      "outputs": []
    },
    {
      "cell_type": "markdown",
      "source": [
        "### Scraping data from Rotten Tomatoes[1]"
      ],
      "metadata": {
        "id": "tIrh9PBbPqQm"
      }
    },
    {
      "cell_type": "code",
      "source": [
        "from resources import data_transform as dt\n",
        "import pandas as pd\n",
        "import re\n",
        "import sys\n",
        "import pandas as pd\n",
        "import requests\n",
        "from bs4 import BeautifulSoup"
      ],
      "metadata": {
        "id": "8Z_CtzmvV1er"
      },
      "execution_count": 14,
      "outputs": []
    },
    {
      "cell_type": "code",
      "source": [
        "movie_titles = list()\n",
        "with open(\"resources/source.txt\", \"r\") as file:\n",
        "  for line in file:\n",
        "          movie_titles.append(line.strip())\n",
        "\n",
        "  reviews_df = dt.pd.DataFrame()\n",
        "\n",
        "  for movie in movie_titles:\n",
        "        i = 0\n",
        "        url_for_comments = f\"https://www.rottentomatoes.com/m/{movie}/reviews\"\n",
        "        url_for_the_movie_info = f\"https://www.rottentomatoes.com/m/{movie}\"\n",
        "\n",
        "        html_code_comments = dt.get_rotten_tomatoes_html(url_for_comments)\n",
        "        html_code_movie_info = dt.get_rotten_tomatoes_html(url_for_the_movie_info)\n",
        "\n",
        "        comments_df = dt.get_comments(html_code_comments, movie)\n",
        "        print(f\"Get the {movie} comments.\")\n",
        "        movie_info_df = dt.get_movie_info(html_code_movie_info)\n",
        "        print(f\"Get the {movie} info.\")\n",
        "        for index, row in comments_df.iterrows():\n",
        "            if row[\"Movie\"] == movie:\n",
        "                i += 1\n",
        "\n",
        "        movie_info_df = pd.concat([movie_info_df] * i, ignore_index=True)\n",
        "        comments_df = comments_df.join(movie_info_df)\n",
        "        reviews_df = pd.concat([reviews_df, comments_df], ignore_index=True)\n",
        "        print(movie, \"added successfully!\")\n",
        "        print(\"\")\n",
        "reviews_df.to_excel(\"resources/reviews_raw.xlsx\", index=False)\n",
        "reviews_df[\"Genre:\"] = reviews_df[\"Genre:\"].apply(lambda x: [word.strip() for word in x.split()])\n",
        "reviews_df[\"Genre\"] = reviews_df[\"Genre:\"].apply(lambda x: x[0][:-1].strip() if x and x[0] else None)\n",
        "reviews_df = reviews_df.drop(\"Genre:\", axis=1)\n",
        "reviews_df[\"Genre\"] = reviews_df[\"Genre\"] + \"_movie\"\n",
        "filter_reviews_df = reviews_df[\n",
        "    [\n",
        "            \"Movie\",\n",
        "            \"Review Text\",\n",
        "            \"Genre\",\n",
        "            \"Critic Name\",\n",
        "            \"Publication\",\n",
        "    ]\n",
        "  ]\n",
        "print(\"\")\n",
        "print(f\"Data successfully exported, Movies count: {len(movie_titles)}, Comments count {len(filter_reviews_df)}\")\n",
        "filter_reviews_df.to_excel(\"resources/reviews.xlsx\", index=False)"
        "print(filter_reviews_df)"
      ],
      "metadata": {
        "colab": {
          "base_uri": "https://localhost:8080/"
        },
        "id": "6am6jkiMQO37",
        "outputId": "405abc5c-91df-4249-81f5-b698b9555431"
      },
      "execution_count": 18,
      "outputs": [
        {
          "output_type": "stream",
          "name": "stdout",
          "text": [
            "Get the Inception comments.\n",
            "Get the Inception info.\n",
            "Inception added successfully!\n",
            "\n",
            "Get the Interstellar comments.\n",
            "Get the Interstellar info.\n",
            "Interstellar added successfully!\n",
            "\n",
            "Get the The_Matrix comments.\n",
            "Get the The_Matrix info.\n",
            "The_Matrix added successfully!\n",
            "\n",
            "Get the Elemental_2023 comments.\n",
            "Get the Elemental_2023 info.\n",
            "Elemental_2023 added successfully!\n",
            "\n",
            "Get the last_airbender comments.\n",
            "Get the last_airbender info.\n",
            "last_airbender added successfully!\n",
            "\n",
            "Get the sharknado comments.\n",
            "Get the sharknado info.\n",
            "sharknado added successfully!\n",
            "\n",
            "Get the the_good_the_bad_and_the_ugly comments.\n",
            "Get the the_good_the_bad_and_the_ugly info.\n",
            "the_good_the_bad_and_the_ugly added successfully!\n",
            "\n",
            "Get the akira comments.\n",
            "Get the akira info.\n",
            "akira added successfully!\n",
            "\n",
            "Get the american_psycho comments.\n",
            "Get the american_psycho info.\n",
            "american_psycho added successfully!\n",
            "\n",
            "\n",
            "Data successfully exported, Movies count: 9, Comments count 180\n"
          ]
        }
      ]
    },
    {
      "cell_type": "markdown",
      "source": [
        "### Sentiment Analysis [2]"
      ],
      "metadata": {
        "id": "Zhg1xYJCRZB5"
      }
    },
    {
      "cell_type": "markdown",
      "source": [
        "#### Concatenate dataframe with results [2.a]"
      ],
      "metadata": {
        "id": "8qf3J67RHMOO"
      }
    },
    {
      "cell_type": "code",
      "source": [
        "from transformers import pipeline\n",
        "classifier = pipeline(\"sentiment-analysis\")"
      ],
      "metadata": {
        "id": "8aP12YRMSmo0",
        "colab": {
          "base_uri": "https://localhost:8080/"
        },
        "outputId": "eabf7843-6c7b-4da8-be1e-903fbcf1611a"
      },
      "execution_count": null,
      "outputs": [
        {
          "output_type": "stream",
          "name": "stderr",
          "text": [
            "No model was supplied, defaulted to distilbert-base-uncased-finetuned-sst-2-english and revision af0f99b (https://huggingface.co/distilbert-base-uncased-finetuned-sst-2-english).\n",
            "Using a pipeline without specifying a model name and revision in production is not recommended.\n"
          ]
        }
      ]
    },
    {
      "cell_type": "code",
      "source": [
        "review_sentiments = pd.DataFrame(classifier(list(reviews_df[\"Review Text\"])))\n",
        "\n",
        "\n",
        "review_sentiments.rename(columns={\"label\" : \"Sentiment\",\n",
        "                                  \"score\" : \"Sentiment Score\"},\n",
        "                          inplace=True)\n",
        "reviews_df = pd.concat([reviews_df,review_sentiments], axis=1)\n",
        "\n",
        "reviews_df\n"
      ],
      "metadata": {
        "id": "YOvKX4P2R0Wo",
        "colab": {
          "base_uri": "https://localhost:8080/",
          "height": 632
        },
        "outputId": "cc314d93-d012-4386-b20e-ef225aeeb119"
      },
      "execution_count": null,
      "outputs": [
        {
          "output_type": "execute_result",
          "data": {
            "text/plain": [
              "               Movie          Critic Name               Publication  \\\n",
              "0          Inception          Akhil Arora            AkhilArora.com   \n",
              "1          Inception         Don Shanahan  Every Movie Has a Lesson   \n",
              "2          Inception         Brian Eggert         Deep Focus Review   \n",
              "3          Inception        Cory Woodroof   For the Win (USA Today)   \n",
              "4          Inception        Amy Thomasson            InSession Film   \n",
              "..               ...                  ...                       ...   \n",
              "175  american_psycho  Jeffrey M. Anderson        Common Sense Media   \n",
              "176  american_psycho       Lisa Alspector            Chicago Reader   \n",
              "177  american_psycho       Desson Thomson           Washington Post   \n",
              "178  american_psycho      David Edelstein                     Slate   \n",
              "179  american_psycho      Richard Corliss             TIME Magazine   \n",
              "\n",
              "                                                                                                                                                                                                                                                   Review Text  \\\n",
              "0                                                                  There are thrillers, and then there are thrillers. Gripping every second and couching its pages of exposition in the smartest way possible, Inception is original filmmaking at its finest.   \n",
              "1    \"Inception\" delivers twists that fit the evolving context of the story it's creating and commandingly wins your attention enough to not turn you off.  While it may not seem like it, there is a point and a light at the end of the tunnel to this maze.   \n",
              "2                                                                               This film must be revisited, talked about, analyzed, and rewatched again and again. It will surely grow upon each viewing, but it proves instantly enthralling the first time.   \n",
              "3                                                                          Still one of the best original films of the last 25 years, Inception is a groundbreaking action drama with some of the most intricate plot mapping this side of dreams and reality.   \n",
              "4                                                                                                                                                                                                    Fresh, innovative stories told in non-traditional ways...   \n",
              "..                                                                                                                                                                                                                                                         ...   \n",
              "175                                                                                                                                                                                                       A bloody, gruesome black comedy that's not for kids.   \n",
              "176                                                   The slick satire cleverly equates materialism, narcissism, misogyny, and classism with homicide, but you may laugh so loud at the protagonist that you won't be able to hear yourself laughing with him.   \n",
              "177                                                                              It's hard to summon up enthusiasm for a performance so rooted in bloody banality. I mean, as Patrick, Bale's most emotionally pressing dilemma is: Chainsaw or butcher knife?   \n",
              "178                                                                            American Psycho is nearly perfect for what it is, but before we go on, we should ask what that actually amounts to. Can something with so rigid a thesis be a real work of art?   \n",
              "179                                                                                                                                                                                       It needs to be seen and appreciated, like a serpent in a glass cage.   \n",
              "\n",
              "      Review Date Sentiment  Sentiment Score  \n",
              "0    Oct 17, 2023  POSITIVE         0.999796  \n",
              "1     Sep 4, 2023  POSITIVE         0.999808  \n",
              "2    Aug 18, 2023  POSITIVE         0.999445  \n",
              "3    Jul 20, 2023  POSITIVE         0.999861  \n",
              "4    Apr 26, 2023  POSITIVE         0.999878  \n",
              "..            ...       ...              ...  \n",
              "175  Apr 29, 2014  NEGATIVE         0.998230  \n",
              "176  Mar 28, 2011  POSITIVE         0.998063  \n",
              "177  Mar 28, 2011  NEGATIVE         0.998157  \n",
              "178  Mar 28, 2011  NEGATIVE         0.997491  \n",
              "179  Mar 28, 2011  NEGATIVE         0.993798  \n",
              "\n",
              "[180 rows x 7 columns]"
            ],
            "text/html": [
              "\n",
              "  <div id=\"df-f10c188b-aa1b-4f47-adf4-46608f5e6af6\" class=\"colab-df-container\">\n",
              "    <div>\n",
              "<style scoped>\n",
              "    .dataframe tbody tr th:only-of-type {\n",
              "        vertical-align: middle;\n",
              "    }\n",
              "\n",
              "    .dataframe tbody tr th {\n",
              "        vertical-align: top;\n",
              "    }\n",
              "\n",
              "    .dataframe thead th {\n",
              "        text-align: right;\n",
              "    }\n",
              "</style>\n",
              "<table border=\"1\" class=\"dataframe\">\n",
              "  <thead>\n",
              "    <tr style=\"text-align: right;\">\n",
              "      <th></th>\n",
              "      <th>Movie</th>\n",
              "      <th>Critic Name</th>\n",
              "      <th>Publication</th>\n",
              "      <th>Review Text</th>\n",
              "      <th>Review Date</th>\n",
              "      <th>Sentiment</th>\n",
              "      <th>Sentiment Score</th>\n",
              "    </tr>\n",
              "  </thead>\n",
              "  <tbody>\n",
              "    <tr>\n",
              "      <th>0</th>\n",
              "      <td>Inception</td>\n",
              "      <td>Akhil Arora</td>\n",
              "      <td>AkhilArora.com</td>\n",
              "      <td>There are thrillers, and then there are thrillers. Gripping every second and couching its pages of exposition in the smartest way possible, Inception is original filmmaking at its finest.</td>\n",
              "      <td>Oct 17, 2023</td>\n",
              "      <td>POSITIVE</td>\n",
              "      <td>0.999796</td>\n",
              "    </tr>\n",
              "    <tr>\n",
              "      <th>1</th>\n",
              "      <td>Inception</td>\n",
              "      <td>Don Shanahan</td>\n",
              "      <td>Every Movie Has a Lesson</td>\n",
              "      <td>\"Inception\" delivers twists that fit the evolving context of the story it's creating and commandingly wins your attention enough to not turn you off.  While it may not seem like it, there is a point and a light at the end of the tunnel to this maze.</td>\n",
              "      <td>Sep 4, 2023</td>\n",
              "      <td>POSITIVE</td>\n",
              "      <td>0.999808</td>\n",
              "    </tr>\n",
              "    <tr>\n",
              "      <th>2</th>\n",
              "      <td>Inception</td>\n",
              "      <td>Brian Eggert</td>\n",
              "      <td>Deep Focus Review</td>\n",
              "      <td>This film must be revisited, talked about, analyzed, and rewatched again and again. It will surely grow upon each viewing, but it proves instantly enthralling the first time.</td>\n",
              "      <td>Aug 18, 2023</td>\n",
              "      <td>POSITIVE</td>\n",
              "      <td>0.999445</td>\n",
              "    </tr>\n",
              "    <tr>\n",
              "      <th>3</th>\n",
              "      <td>Inception</td>\n",
              "      <td>Cory Woodroof</td>\n",
              "      <td>For the Win (USA Today)</td>\n",
              "      <td>Still one of the best original films of the last 25 years, Inception is a groundbreaking action drama with some of the most intricate plot mapping this side of dreams and reality.</td>\n",
              "      <td>Jul 20, 2023</td>\n",
              "      <td>POSITIVE</td>\n",
              "      <td>0.999861</td>\n",
              "    </tr>\n",
              "    <tr>\n",
              "      <th>4</th>\n",
              "      <td>Inception</td>\n",
              "      <td>Amy Thomasson</td>\n",
              "      <td>InSession Film</td>\n",
              "      <td>Fresh, innovative stories told in non-traditional ways...</td>\n",
              "      <td>Apr 26, 2023</td>\n",
              "      <td>POSITIVE</td>\n",
              "      <td>0.999878</td>\n",
              "    </tr>\n",
              "    <tr>\n",
              "      <th>...</th>\n",
              "      <td>...</td>\n",
              "      <td>...</td>\n",
              "      <td>...</td>\n",
              "      <td>...</td>\n",
              "      <td>...</td>\n",
              "      <td>...</td>\n",
              "      <td>...</td>\n",
              "    </tr>\n",
              "    <tr>\n",
              "      <th>175</th>\n",
              "      <td>american_psycho</td>\n",
              "      <td>Jeffrey M. Anderson</td>\n",
              "      <td>Common Sense Media</td>\n",
              "      <td>A bloody, gruesome black comedy that's not for kids.</td>\n",
              "      <td>Apr 29, 2014</td>\n",
              "      <td>NEGATIVE</td>\n",
              "      <td>0.998230</td>\n",
              "    </tr>\n",
              "    <tr>\n",
              "      <th>176</th>\n",
              "      <td>american_psycho</td>\n",
              "      <td>Lisa Alspector</td>\n",
              "      <td>Chicago Reader</td>\n",
              "      <td>The slick satire cleverly equates materialism, narcissism, misogyny, and classism with homicide, but you may laugh so loud at the protagonist that you won't be able to hear yourself laughing with him.</td>\n",
              "      <td>Mar 28, 2011</td>\n",
              "      <td>POSITIVE</td>\n",
              "      <td>0.998063</td>\n",
              "    </tr>\n",
              "    <tr>\n",
              "      <th>177</th>\n",
              "      <td>american_psycho</td>\n",
              "      <td>Desson Thomson</td>\n",
              "      <td>Washington Post</td>\n",
              "      <td>It's hard to summon up enthusiasm for a performance so rooted in bloody banality. I mean, as Patrick, Bale's most emotionally pressing dilemma is: Chainsaw or butcher knife?</td>\n",
              "      <td>Mar 28, 2011</td>\n",
              "      <td>NEGATIVE</td>\n",
              "      <td>0.998157</td>\n",
              "    </tr>\n",
              "    <tr>\n",
              "      <th>178</th>\n",
              "      <td>american_psycho</td>\n",
              "      <td>David Edelstein</td>\n",
              "      <td>Slate</td>\n",
              "      <td>American Psycho is nearly perfect for what it is, but before we go on, we should ask what that actually amounts to. Can something with so rigid a thesis be a real work of art?</td>\n",
              "      <td>Mar 28, 2011</td>\n",
              "      <td>NEGATIVE</td>\n",
              "      <td>0.997491</td>\n",
              "    </tr>\n",
              "    <tr>\n",
              "      <th>179</th>\n",
              "      <td>american_psycho</td>\n",
              "      <td>Richard Corliss</td>\n",
              "      <td>TIME Magazine</td>\n",
              "      <td>It needs to be seen and appreciated, like a serpent in a glass cage.</td>\n",
              "      <td>Mar 28, 2011</td>\n",
              "      <td>NEGATIVE</td>\n",
              "      <td>0.993798</td>\n",
              "    </tr>\n",
              "  </tbody>\n",
              "</table>\n",
              "<p>180 rows × 7 columns</p>\n",
              "</div>\n",
              "    <div class=\"colab-df-buttons\">\n",
              "\n",
              "  <div class=\"colab-df-container\">\n",
              "    <button class=\"colab-df-convert\" onclick=\"convertToInteractive('df-f10c188b-aa1b-4f47-adf4-46608f5e6af6')\"\n",
              "            title=\"Convert this dataframe to an interactive table.\"\n",
              "            style=\"display:none;\">\n",
              "\n",
              "  <svg xmlns=\"http://www.w3.org/2000/svg\" height=\"24px\" viewBox=\"0 -960 960 960\">\n",
              "    <path d=\"M120-120v-720h720v720H120Zm60-500h600v-160H180v160Zm220 220h160v-160H400v160Zm0 220h160v-160H400v160ZM180-400h160v-160H180v160Zm440 0h160v-160H620v160ZM180-180h160v-160H180v160Zm440 0h160v-160H620v160Z\"/>\n",
              "  </svg>\n",
              "    </button>\n",
              "\n",
              "  <style>\n",
              "    .colab-df-container {\n",
              "      display:flex;\n",
              "      gap: 12px;\n",
              "    }\n",
              "\n",
              "    .colab-df-convert {\n",
              "      background-color: #E8F0FE;\n",
              "      border: none;\n",
              "      border-radius: 50%;\n",
              "      cursor: pointer;\n",
              "      display: none;\n",
              "      fill: #1967D2;\n",
              "      height: 32px;\n",
              "      padding: 0 0 0 0;\n",
              "      width: 32px;\n",
              "    }\n",
              "\n",
              "    .colab-df-convert:hover {\n",
              "      background-color: #E2EBFA;\n",
              "      box-shadow: 0px 1px 2px rgba(60, 64, 67, 0.3), 0px 1px 3px 1px rgba(60, 64, 67, 0.15);\n",
              "      fill: #174EA6;\n",
              "    }\n",
              "\n",
              "    .colab-df-buttons div {\n",
              "      margin-bottom: 4px;\n",
              "    }\n",
              "\n",
              "    [theme=dark] .colab-df-convert {\n",
              "      background-color: #3B4455;\n",
              "      fill: #D2E3FC;\n",
              "    }\n",
              "\n",
              "    [theme=dark] .colab-df-convert:hover {\n",
              "      background-color: #434B5C;\n",
              "      box-shadow: 0px 1px 3px 1px rgba(0, 0, 0, 0.15);\n",
              "      filter: drop-shadow(0px 1px 2px rgba(0, 0, 0, 0.3));\n",
              "      fill: #FFFFFF;\n",
              "    }\n",
              "  </style>\n",
              "\n",
              "    <script>\n",
              "      const buttonEl =\n",
              "        document.querySelector('#df-f10c188b-aa1b-4f47-adf4-46608f5e6af6 button.colab-df-convert');\n",
              "      buttonEl.style.display =\n",
              "        google.colab.kernel.accessAllowed ? 'block' : 'none';\n",
              "\n",
              "      async function convertToInteractive(key) {\n",
              "        const element = document.querySelector('#df-f10c188b-aa1b-4f47-adf4-46608f5e6af6');\n",
              "        const dataTable =\n",
              "          await google.colab.kernel.invokeFunction('convertToInteractive',\n",
              "                                                    [key], {});\n",
              "        if (!dataTable) return;\n",
              "\n",
              "        const docLinkHtml = 'Like what you see? Visit the ' +\n",
              "          '<a target=\"_blank\" href=https://colab.research.google.com/notebooks/data_table.ipynb>data table notebook</a>'\n",
              "          + ' to learn more about interactive tables.';\n",
              "        element.innerHTML = '';\n",
              "        dataTable['output_type'] = 'display_data';\n",
              "        await google.colab.output.renderOutput(dataTable, element);\n",
              "        const docLink = document.createElement('div');\n",
              "        docLink.innerHTML = docLinkHtml;\n",
              "        element.appendChild(docLink);\n",
              "      }\n",
              "    </script>\n",
              "  </div>\n",
              "\n",
              "\n",
              "<div id=\"df-5e2fc5db-c933-43c8-8887-c53567c921b8\">\n",
              "  <button class=\"colab-df-quickchart\" onclick=\"quickchart('df-5e2fc5db-c933-43c8-8887-c53567c921b8')\"\n",
              "            title=\"Suggest charts\"\n",
              "            style=\"display:none;\">\n",
              "\n",
              "<svg xmlns=\"http://www.w3.org/2000/svg\" height=\"24px\"viewBox=\"0 0 24 24\"\n",
              "     width=\"24px\">\n",
              "    <g>\n",
              "        <path d=\"M19 3H5c-1.1 0-2 .9-2 2v14c0 1.1.9 2 2 2h14c1.1 0 2-.9 2-2V5c0-1.1-.9-2-2-2zM9 17H7v-7h2v7zm4 0h-2V7h2v10zm4 0h-2v-4h2v4z\"/>\n",
              "    </g>\n",
              "</svg>\n",
              "  </button>\n",
              "\n",
              "<style>\n",
              "  .colab-df-quickchart {\n",
              "      --bg-color: #E8F0FE;\n",
              "      --fill-color: #1967D2;\n",
              "      --hover-bg-color: #E2EBFA;\n",
              "      --hover-fill-color: #174EA6;\n",
              "      --disabled-fill-color: #AAA;\n",
              "      --disabled-bg-color: #DDD;\n",
              "  }\n",
              "\n",
              "  [theme=dark] .colab-df-quickchart {\n",
              "      --bg-color: #3B4455;\n",
              "      --fill-color: #D2E3FC;\n",
              "      --hover-bg-color: #434B5C;\n",
              "      --hover-fill-color: #FFFFFF;\n",
              "      --disabled-bg-color: #3B4455;\n",
              "      --disabled-fill-color: #666;\n",
              "  }\n",
              "\n",
              "  .colab-df-quickchart {\n",
              "    background-color: var(--bg-color);\n",
              "    border: none;\n",
              "    border-radius: 50%;\n",
              "    cursor: pointer;\n",
              "    display: none;\n",
              "    fill: var(--fill-color);\n",
              "    height: 32px;\n",
              "    padding: 0;\n",
              "    width: 32px;\n",
              "  }\n",
              "\n",
              "  .colab-df-quickchart:hover {\n",
              "    background-color: var(--hover-bg-color);\n",
              "    box-shadow: 0 1px 2px rgba(60, 64, 67, 0.3), 0 1px 3px 1px rgba(60, 64, 67, 0.15);\n",
              "    fill: var(--button-hover-fill-color);\n",
              "  }\n",
              "\n",
              "  .colab-df-quickchart-complete:disabled,\n",
              "  .colab-df-quickchart-complete:disabled:hover {\n",
              "    background-color: var(--disabled-bg-color);\n",
              "    fill: var(--disabled-fill-color);\n",
              "    box-shadow: none;\n",
              "  }\n",
              "\n",
              "  .colab-df-spinner {\n",
              "    border: 2px solid var(--fill-color);\n",
              "    border-color: transparent;\n",
              "    border-bottom-color: var(--fill-color);\n",
              "    animation:\n",
              "      spin 1s steps(1) infinite;\n",
              "  }\n",
              "\n",
              "  @keyframes spin {\n",
              "    0% {\n",
              "      border-color: transparent;\n",
              "      border-bottom-color: var(--fill-color);\n",
              "      border-left-color: var(--fill-color);\n",
              "    }\n",
              "    20% {\n",
              "      border-color: transparent;\n",
              "      border-left-color: var(--fill-color);\n",
              "      border-top-color: var(--fill-color);\n",
              "    }\n",
              "    30% {\n",
              "      border-color: transparent;\n",
              "      border-left-color: var(--fill-color);\n",
              "      border-top-color: var(--fill-color);\n",
              "      border-right-color: var(--fill-color);\n",
              "    }\n",
              "    40% {\n",
              "      border-color: transparent;\n",
              "      border-right-color: var(--fill-color);\n",
              "      border-top-color: var(--fill-color);\n",
              "    }\n",
              "    60% {\n",
              "      border-color: transparent;\n",
              "      border-right-color: var(--fill-color);\n",
              "    }\n",
              "    80% {\n",
              "      border-color: transparent;\n",
              "      border-right-color: var(--fill-color);\n",
              "      border-bottom-color: var(--fill-color);\n",
              "    }\n",
              "    90% {\n",
              "      border-color: transparent;\n",
              "      border-bottom-color: var(--fill-color);\n",
              "    }\n",
              "  }\n",
              "</style>\n",
              "\n",
              "  <script>\n",
              "    async function quickchart(key) {\n",
              "      const quickchartButtonEl =\n",
              "        document.querySelector('#' + key + ' button');\n",
              "      quickchartButtonEl.disabled = true;  // To prevent multiple clicks.\n",
              "      quickchartButtonEl.classList.add('colab-df-spinner');\n",
              "      try {\n",
              "        const charts = await google.colab.kernel.invokeFunction(\n",
              "            'suggestCharts', [key], {});\n",
              "      } catch (error) {\n",
              "        console.error('Error during call to suggestCharts:', error);\n",
              "      }\n",
              "      quickchartButtonEl.classList.remove('colab-df-spinner');\n",
              "      quickchartButtonEl.classList.add('colab-df-quickchart-complete');\n",
              "    }\n",
              "    (() => {\n",
              "      let quickchartButtonEl =\n",
              "        document.querySelector('#df-5e2fc5db-c933-43c8-8887-c53567c921b8 button');\n",
              "      quickchartButtonEl.style.display =\n",
              "        google.colab.kernel.accessAllowed ? 'block' : 'none';\n",
              "    })();\n",
              "  </script>\n",
              "</div>\n",
              "    </div>\n",
              "  </div>\n"
            ]
          },
          "metadata": {},
          "execution_count": 50
        }
      ]
    },
    {
      "cell_type": "markdown",
      "source": [
        "#### Visualize POSITIVE/NEGATIVE ratios [2.b]\n",
        "\n"
      ],
      "metadata": {
        "id": "wR1SZqbsHt8u"
      }
    },
    {
      "cell_type": "code",
      "source": [
        "movie_review_sentiment_count = reviews_df[[\"Movie\", \"Sentiment\"]].groupby(\"Movie\")[\"Sentiment\"].value_counts().unstack().reset_index()\n",
        "movie_review_sentiment_count.plot(x=\"Movie\",\n",
        "                                  kind = \"bar\",\n",
        "                                  stacked=False,\n",
        "                                  title =\"Sentiment ratios on a per movie basis\")"
      ],
      "metadata": {
        "id": "Nuuku3y768xh",
        "colab": {
          "base_uri": "https://localhost:8080/",
          "height": 703
        },
        "outputId": "2b07172c-4129-4bca-a6a8-cd2e77809e11"
      },
      "execution_count": null,
      "outputs": [
        {
          "output_type": "execute_result",
          "data": {
            "text/plain": [
              "<Axes: title={'center': 'Sentiment ratios on a per movie basis'}, xlabel='Movie'>"
            ]
          },
          "metadata": {},
          "execution_count": 51
        },
        {
          "output_type": "display_data",
          "data": {
            "text/plain": [
              "<Figure size 640x480 with 1 Axes>"
            ],
            "image/png": "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\n"
          },
          "metadata": {}
        }
      ]
    },
    {
      "cell_type": "markdown",
      "source": [
        "> In the case of more mainstream titles, we can observe a ratio of about 7 positives to 3 negatives. In the case of less know titles the deviation is much more pronounced."
      ],
      "metadata": {
        "id": "wIOk6fp8Gz5-"
      }
    },
    {
      "cell_type": "markdown",
      "source": [
        "#### Examples of low certainty scores [2.c]\n",
        "\n",
        "> While the classifier has been able to classify the majority of sample materials with to close to 1.00 certainty scores, there have been some some notable outliers with below 0.75 scores."
      ],
      "metadata": {
        "id": "K6b1_8rDIEQT"
      }
    },
    {
      "cell_type": "code",
      "source": [
        "reviews_df.sort_values(\"Sentiment Score\")"
      ],
      "metadata": {
        "id": "pauAOm41PobR"
      },
      "execution_count": null,
      "outputs": []
    },
    {
      "cell_type": "code",
      "source": [
        "outlier_df = reviews_df.sort_values(\"Sentiment Score\").head(3)\n",
        "pd.options.display.max_colwidth = 300\n",
        "\n",
        "outlier_df[[\"Sentiment\", \"Sentiment Score\", \"Review Text\"]]"
      ],
      "metadata": {
        "id": "79GObCocWgH8",
        "colab": {
          "base_uri": "https://localhost:8080/",
          "height": 178
        },
        "outputId": "415c966e-6bf2-47e4-f80a-396e5f06eee5"
      },
      "execution_count": null,
      "outputs": [
        {
          "output_type": "execute_result",
          "data": {
            "text/plain": [
              "   Sentiment  Sentiment Score  \\\n",
              "97  NEGATIVE         0.653136   \n",
              "43  NEGATIVE         0.666032   \n",
              "13  POSITIVE         0.728915   \n",
              "\n",
              "                                                                                                                                                                                                               Review Text  \n",
              "97                                                                                         Writer/director M Night Shyamalan's once glorious reputation is tarnished further by this tediously juvenile fantasy adventure.  \n",
              "43  The Wachowskis seem to be saying that while state-of-the-art effects speak for themselves, loud and clear, there's still room amid all the kicking and shooting and shouting for the carefully observed human emotion.  \n",
              "13                         It's not nearly as confusing as many make it out to be, but if you do find yourself losing the plot a bit, remember you're at the movies and just let it overwhelm you. That's part of the fun.  "
            ],
            "text/html": [
              "\n",
              "  <div id=\"df-756b0fbd-220c-4470-85ae-40b26115a17a\" class=\"colab-df-container\">\n",
              "    <div>\n",
              "<style scoped>\n",
              "    .dataframe tbody tr th:only-of-type {\n",
              "        vertical-align: middle;\n",
              "    }\n",
              "\n",
              "    .dataframe tbody tr th {\n",
              "        vertical-align: top;\n",
              "    }\n",
              "\n",
              "    .dataframe thead th {\n",
              "        text-align: right;\n",
              "    }\n",
              "</style>\n",
              "<table border=\"1\" class=\"dataframe\">\n",
              "  <thead>\n",
              "    <tr style=\"text-align: right;\">\n",
              "      <th></th>\n",
              "      <th>Sentiment</th>\n",
              "      <th>Sentiment Score</th>\n",
              "      <th>Review Text</th>\n",
              "    </tr>\n",
              "  </thead>\n",
              "  <tbody>\n",
              "    <tr>\n",
              "      <th>97</th>\n",
              "      <td>NEGATIVE</td>\n",
              "      <td>0.653136</td>\n",
              "      <td>Writer/director M Night Shyamalan's once glorious reputation is tarnished further by this tediously juvenile fantasy adventure.</td>\n",
              "    </tr>\n",
              "    <tr>\n",
              "      <th>43</th>\n",
              "      <td>NEGATIVE</td>\n",
              "      <td>0.666032</td>\n",
              "      <td>The Wachowskis seem to be saying that while state-of-the-art effects speak for themselves, loud and clear, there's still room amid all the kicking and shooting and shouting for the carefully observed human emotion.</td>\n",
              "    </tr>\n",
              "    <tr>\n",
              "      <th>13</th>\n",
              "      <td>POSITIVE</td>\n",
              "      <td>0.728915</td>\n",
              "      <td>It's not nearly as confusing as many make it out to be, but if you do find yourself losing the plot a bit, remember you're at the movies and just let it overwhelm you. That's part of the fun.</td>\n",
              "    </tr>\n",
              "  </tbody>\n",
              "</table>\n",
              "</div>\n",
              "    <div class=\"colab-df-buttons\">\n",
              "\n",
              "  <div class=\"colab-df-container\">\n",
              "    <button class=\"colab-df-convert\" onclick=\"convertToInteractive('df-756b0fbd-220c-4470-85ae-40b26115a17a')\"\n",
              "            title=\"Convert this dataframe to an interactive table.\"\n",
              "            style=\"display:none;\">\n",
              "\n",
              "  <svg xmlns=\"http://www.w3.org/2000/svg\" height=\"24px\" viewBox=\"0 -960 960 960\">\n",
              "    <path d=\"M120-120v-720h720v720H120Zm60-500h600v-160H180v160Zm220 220h160v-160H400v160Zm0 220h160v-160H400v160ZM180-400h160v-160H180v160Zm440 0h160v-160H620v160ZM180-180h160v-160H180v160Zm440 0h160v-160H620v160Z\"/>\n",
              "  </svg>\n",
              "    </button>\n",
              "\n",
              "  <style>\n",
              "    .colab-df-container {\n",
              "      display:flex;\n",
              "      gap: 12px;\n",
              "    }\n",
              "\n",
              "    .colab-df-convert {\n",
              "      background-color: #E8F0FE;\n",
              "      border: none;\n",
              "      border-radius: 50%;\n",
              "      cursor: pointer;\n",
              "      display: none;\n",
              "      fill: #1967D2;\n",
              "      height: 32px;\n",
              "      padding: 0 0 0 0;\n",
              "      width: 32px;\n",
              "    }\n",
              "\n",
              "    .colab-df-convert:hover {\n",
              "      background-color: #E2EBFA;\n",
              "      box-shadow: 0px 1px 2px rgba(60, 64, 67, 0.3), 0px 1px 3px 1px rgba(60, 64, 67, 0.15);\n",
              "      fill: #174EA6;\n",
              "    }\n",
              "\n",
              "    .colab-df-buttons div {\n",
              "      margin-bottom: 4px;\n",
              "    }\n",
              "\n",
              "    [theme=dark] .colab-df-convert {\n",
              "      background-color: #3B4455;\n",
              "      fill: #D2E3FC;\n",
              "    }\n",
              "\n",
              "    [theme=dark] .colab-df-convert:hover {\n",
              "      background-color: #434B5C;\n",
              "      box-shadow: 0px 1px 3px 1px rgba(0, 0, 0, 0.15);\n",
              "      filter: drop-shadow(0px 1px 2px rgba(0, 0, 0, 0.3));\n",
              "      fill: #FFFFFF;\n",
              "    }\n",
              "  </style>\n",
              "\n",
              "    <script>\n",
              "      const buttonEl =\n",
              "        document.querySelector('#df-756b0fbd-220c-4470-85ae-40b26115a17a button.colab-df-convert');\n",
              "      buttonEl.style.display =\n",
              "        google.colab.kernel.accessAllowed ? 'block' : 'none';\n",
              "\n",
              "      async function convertToInteractive(key) {\n",
              "        const element = document.querySelector('#df-756b0fbd-220c-4470-85ae-40b26115a17a');\n",
              "        const dataTable =\n",
              "          await google.colab.kernel.invokeFunction('convertToInteractive',\n",
              "                                                    [key], {});\n",
              "        if (!dataTable) return;\n",
              "\n",
              "        const docLinkHtml = 'Like what you see? Visit the ' +\n",
              "          '<a target=\"_blank\" href=https://colab.research.google.com/notebooks/data_table.ipynb>data table notebook</a>'\n",
              "          + ' to learn more about interactive tables.';\n",
              "        element.innerHTML = '';\n",
              "        dataTable['output_type'] = 'display_data';\n",
              "        await google.colab.output.renderOutput(dataTable, element);\n",
              "        const docLink = document.createElement('div');\n",
              "        docLink.innerHTML = docLinkHtml;\n",
              "        element.appendChild(docLink);\n",
              "      }\n",
              "    </script>\n",
              "  </div>\n",
              "\n",
              "\n",
              "<div id=\"df-dd43dddf-0ff1-472d-b582-d31e470cd97a\">\n",
              "  <button class=\"colab-df-quickchart\" onclick=\"quickchart('df-dd43dddf-0ff1-472d-b582-d31e470cd97a')\"\n",
              "            title=\"Suggest charts\"\n",
              "            style=\"display:none;\">\n",
              "\n",
              "<svg xmlns=\"http://www.w3.org/2000/svg\" height=\"24px\"viewBox=\"0 0 24 24\"\n",
              "     width=\"24px\">\n",
              "    <g>\n",
              "        <path d=\"M19 3H5c-1.1 0-2 .9-2 2v14c0 1.1.9 2 2 2h14c1.1 0 2-.9 2-2V5c0-1.1-.9-2-2-2zM9 17H7v-7h2v7zm4 0h-2V7h2v10zm4 0h-2v-4h2v4z\"/>\n",
              "    </g>\n",
              "</svg>\n",
              "  </button>\n",
              "\n",
              "<style>\n",
              "  .colab-df-quickchart {\n",
              "      --bg-color: #E8F0FE;\n",
              "      --fill-color: #1967D2;\n",
              "      --hover-bg-color: #E2EBFA;\n",
              "      --hover-fill-color: #174EA6;\n",
              "      --disabled-fill-color: #AAA;\n",
              "      --disabled-bg-color: #DDD;\n",
              "  }\n",
              "\n",
              "  [theme=dark] .colab-df-quickchart {\n",
              "      --bg-color: #3B4455;\n",
              "      --fill-color: #D2E3FC;\n",
              "      --hover-bg-color: #434B5C;\n",
              "      --hover-fill-color: #FFFFFF;\n",
              "      --disabled-bg-color: #3B4455;\n",
              "      --disabled-fill-color: #666;\n",
              "  }\n",
              "\n",
              "  .colab-df-quickchart {\n",
              "    background-color: var(--bg-color);\n",
              "    border: none;\n",
              "    border-radius: 50%;\n",
              "    cursor: pointer;\n",
              "    display: none;\n",
              "    fill: var(--fill-color);\n",
              "    height: 32px;\n",
              "    padding: 0;\n",
              "    width: 32px;\n",
              "  }\n",
              "\n",
              "  .colab-df-quickchart:hover {\n",
              "    background-color: var(--hover-bg-color);\n",
              "    box-shadow: 0 1px 2px rgba(60, 64, 67, 0.3), 0 1px 3px 1px rgba(60, 64, 67, 0.15);\n",
              "    fill: var(--button-hover-fill-color);\n",
              "  }\n",
              "\n",
              "  .colab-df-quickchart-complete:disabled,\n",
              "  .colab-df-quickchart-complete:disabled:hover {\n",
              "    background-color: var(--disabled-bg-color);\n",
              "    fill: var(--disabled-fill-color);\n",
              "    box-shadow: none;\n",
              "  }\n",
              "\n",
              "  .colab-df-spinner {\n",
              "    border: 2px solid var(--fill-color);\n",
              "    border-color: transparent;\n",
              "    border-bottom-color: var(--fill-color);\n",
              "    animation:\n",
              "      spin 1s steps(1) infinite;\n",
              "  }\n",
              "\n",
              "  @keyframes spin {\n",
              "    0% {\n",
              "      border-color: transparent;\n",
              "      border-bottom-color: var(--fill-color);\n",
              "      border-left-color: var(--fill-color);\n",
              "    }\n",
              "    20% {\n",
              "      border-color: transparent;\n",
              "      border-left-color: var(--fill-color);\n",
              "      border-top-color: var(--fill-color);\n",
              "    }\n",
              "    30% {\n",
              "      border-color: transparent;\n",
              "      border-left-color: var(--fill-color);\n",
              "      border-top-color: var(--fill-color);\n",
              "      border-right-color: var(--fill-color);\n",
              "    }\n",
              "    40% {\n",
              "      border-color: transparent;\n",
              "      border-right-color: var(--fill-color);\n",
              "      border-top-color: var(--fill-color);\n",
              "    }\n",
              "    60% {\n",
              "      border-color: transparent;\n",
              "      border-right-color: var(--fill-color);\n",
              "    }\n",
              "    80% {\n",
              "      border-color: transparent;\n",
              "      border-right-color: var(--fill-color);\n",
              "      border-bottom-color: var(--fill-color);\n",
              "    }\n",
              "    90% {\n",
              "      border-color: transparent;\n",
              "      border-bottom-color: var(--fill-color);\n",
              "    }\n",
              "  }\n",
              "</style>\n",
              "\n",
              "  <script>\n",
              "    async function quickchart(key) {\n",
              "      const quickchartButtonEl =\n",
              "        document.querySelector('#' + key + ' button');\n",
              "      quickchartButtonEl.disabled = true;  // To prevent multiple clicks.\n",
              "      quickchartButtonEl.classList.add('colab-df-spinner');\n",
              "      try {\n",
              "        const charts = await google.colab.kernel.invokeFunction(\n",
              "            'suggestCharts', [key], {});\n",
              "      } catch (error) {\n",
              "        console.error('Error during call to suggestCharts:', error);\n",
              "      }\n",
              "      quickchartButtonEl.classList.remove('colab-df-spinner');\n",
              "      quickchartButtonEl.classList.add('colab-df-quickchart-complete');\n",
              "    }\n",
              "    (() => {\n",
              "      let quickchartButtonEl =\n",
              "        document.querySelector('#df-dd43dddf-0ff1-472d-b582-d31e470cd97a button');\n",
              "      quickchartButtonEl.style.display =\n",
              "        google.colab.kernel.accessAllowed ? 'block' : 'none';\n",
              "    })();\n",
              "  </script>\n",
              "</div>\n",
              "    </div>\n",
              "  </div>\n"
            ]
          },
          "metadata": {},
          "execution_count": 46
        }
      ]
    },
    {
      "cell_type": "markdown",
      "source": [
        "> In case of the above examples, we can see the three review with lowest certainty scores. As it's apparent, after reading through them, there are no clear cut commonalities. Some are probably too verbose, some probably give too little context. Yet, the final results still align to what a human would usually have answered with.\n"
      ],
      "metadata": {
        "id": "FU1cWk-uy5LF"
      }
    },
    {
      "cell_type": "markdown",
      "source": [
        "### Zero-shot Classification [3]"
      ],
      "metadata": {
        "id": "pk3qPUw1R8K9"
      }
    },
    {
      "cell_type": "markdown",
      "source": [
        "#### Store label-groups [3.a]"
      ],
      "metadata": {
        "id": "Uyjac86BS7-Y"
      }
    },
    {
      "cell_type": "code",
      "source": [
        "from transformers import pipeline\n",
        "classifier = pipeline(\"zero-shot-classification\")\n",
        "\n",
        "label_groups = [[\"emotional review\",\"balanced review\", \"factual review\"],\n",
        "                [\"white reviewer\", \"black reviewer\", \"asian reviewer\"],\n",
        "                [\"positive review\", \"netrual review\", \"negative review\"],\n",
        "                [\"off-topic\", \"on-topic\"]]\n",
        "\n",
        "def plot_pie_diagram(classification_result,label_group,title_text):\n",
        "\n",
        "  counts = pd.Series([x[0] for x in classification_result['labels']]).value_counts()\n",
        "\n",
        "  #counts = reviews_df['label1'].value_counts()\n",
        "\n",
        "  plt.figure(figsize=(4, 4))\n",
        "  counts.plot(kind='pie', autopct='%1.1f%%', startangle=90, labels=None)\n",
        "  plt.title(title_text)\n",
        "  legend_labels = [label for label in counts.index if label in label_group]\n",
        "  plt.legend(labels=legend_labels, loc='lower right')\n",
        "\n",
        "  print(f\"Zero-shot classification according to {label_group}\")\n",
        "  plt.show()"
      ],
      "metadata": {
        "id": "VIssH6RuSrgn",
        "colab": {
          "base_uri": "https://localhost:8080/"
        },
        "outputId": "c651d33b-53a8-484e-c2c1-09b8737597c1"
      },
      "execution_count": null,
      "outputs": [
        {
          "output_type": "stream",
          "name": "stderr",
          "text": [
            "No model was supplied, defaulted to facebook/bart-large-mnli and revision c626438 (https://huggingface.co/facebook/bart-large-mnli).\n",
            "Using a pipeline without specifying a model name and revision in production is not recommended.\n"
          ]
        }
      ]
    },
    {
      "cell_type": "markdown",
      "source": [
        "#### Ratios of label relevencies on a per label-group basis (classifications will run for a long time) [3.b]"
      ],
      "metadata": {
        "id": "U3UjL89MPY1U"
      }
    },
    {
      "cell_type": "code",
      "source": [
        "#Classification\n",
        "label0 = pd.DataFrame(classifier(list(reviews_df[\"Review Text\"]), candidate_labels=label_groups[0]))"
      ],
      "metadata": {
        "id": "R_1b4g2kVVVQ"
      },
      "execution_count": null,
      "outputs": []
    },
    {
      "cell_type": "code",
      "source": [
        "#Visualization\n",
        "import matplotlib.pyplot as plt\n",
        "plot_pie_diagram(label0,label_groups[0],\"Review Classification Distribution\")"
      ],
      "metadata": {
        "id": "EgCc88VZSNSo",
        "outputId": "6c20f938-9f68-41a3-e8c0-2bd718afd3a7",
        "colab": {
          "base_uri": "https://localhost:8080/",
          "height": 385
        }
      },
      "execution_count": null,
      "outputs": [
        {
          "output_type": "stream",
          "name": "stdout",
          "text": [
            "Zero-shot classification according to ['emotional review', 'balanced review', 'factual review']\n"
          ]
        },
        {
          "output_type": "display_data",
          "data": {
            "text/plain": [
              "<Figure size 400x400 with 1 Axes>"
            ],
            "image/png": "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\n"
          },
          "metadata": {}
        }
      ]
    },
    {
      "cell_type": "code",
      "source": [
        "#Classification\n",
        "label1 = pd.DataFrame(classifier(list(reviews_df[\"Review Text\"]), candidate_labels=label_groups[1]))"
      ],
      "metadata": {
        "id": "igC9fUAxBmR6"
      },
      "execution_count": null,
      "outputs": []
    },
    {
      "cell_type": "code",
      "source": [
        "#Visualization\n",
        "import matplotlib.pyplot as plt\n",
        "plot_pie_diagram(label1,label_groups[1],\"Review Classification Distribution\")"
      ],
      "metadata": {
        "id": "beRZ7XKMJOZU",
        "outputId": "7cf80217-8ea0-4a4a-91db-0acc90cf2f51",
        "colab": {
          "base_uri": "https://localhost:8080/",
          "height": 385
        }
      },
      "execution_count": null,
      "outputs": [
        {
          "output_type": "stream",
          "name": "stdout",
          "text": [
            "Zero-shot classification according to ['white reviewer', 'black reviewer', 'asian reviewer']\n"
          ]
        },
        {
          "output_type": "display_data",
          "data": {
            "text/plain": [
              "<Figure size 400x400 with 1 Axes>"
            ],
            "image/png": "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\n"
          },
          "metadata": {}
        }
      ]
    },
    {
      "cell_type": "code",
      "source": [
        "#Classification\n",
        "label2 = pd.DataFrame(classifier(list(reviews_df[\"Review Text\"]), candidate_labels=label_groups[2]))"
      ],
      "metadata": {
        "id": "_PMLS66BJSQy"
      },
      "execution_count": null,
      "outputs": []
    },
    {
      "cell_type": "code",
      "source": [
        "#Visualization\n",
        "import matplotlib.pyplot as plt\n",
        "plot_pie_diagram(label2,label_groups[2],\"Review Classification Distribution\")"
      ],
      "metadata": {
        "id": "v_xV1Hj6JYvQ"
      },
      "execution_count": null,
      "outputs": []
    },
    {
      "cell_type": "code",
      "source": [
        "#Classification\n",
        "label3 = pd.DataFrame(classifier(list(reviews_df[\"Review Text\"]), candidate_labels=label_groups[3]))"
      ],
      "metadata": {
        "id": "r6Mwh2A7Jdtx"
      },
      "execution_count": null,
      "outputs": []
    },
    {
      "cell_type": "code",
      "source": [
        "#Visualization\n",
        "import matplotlib.pyplot as plt\n",
        "plot_pie_diagram(label3,label_groups[3],\"Review Classification Distribution\")"
      ],
      "metadata": {
        "id": "Q_bvk3fcJw66"
      },
      "execution_count": null,
      "outputs": []
    },
    {
      "cell_type": "markdown",
      "source": [
        "#### Comparison between the Last Airbender and Interstellar [3.c]"
      ],
      "metadata": {
        "id": "VqEnrYOhO3Gg"
      }
    },
    {
      "cell_type": "code",
      "source": [
        "custom_sentiment_labels = [\n",
        "    'GOOD',\n",
        "    'BAD',\n",
        "    'NEUTRAL',\n",
        "    'EXCELLENT']\n",
        "\n",
        "genres = [\"Action\",\n",
        "\"Comedy\",\n",
        "\"Drama\",\n",
        "\"Horror\",\n",
        "\"Romance\",\n",
        "\"Science Fiction\",\n",
        "\"Thriller\",\n",
        "]\n",
        "\n",
        "interstellar_df = reviews_df[reviews_df[\"Movie\"] == \"Interstellar\"]\n",
        "\n",
        "last_airbender_df = reviews_df[reviews_df[\"Movie\"] == \"last_airbender\"]\n",
        "\n",
        "interstellar_sentiments = pd.DataFrame(classifier(list(interstellar_df[\"Review Text\"]), candidate_labels=custom_sentiment_labels))\n",
        "\n",
        "last_airbender_sentiments = pd.DataFrame(classifier(list(last_airbender_df[\"Review Text\"]), candidate_labels=custom_sentiment_labels))\n"
      ],
      "metadata": {
        "id": "F-h8KD0UOo6A"
      },
      "execution_count": null,
      "outputs": []
    },
    {
      "cell_type": "code",
      "source": [
        "import seaborn as sns\n",
        "import matplotlib.pyplot as plt\n",
        "\n",
        "#Concatenate DataFrames\n",
        "interstellar_df[\"Custom Sentiment\"]= [x[0] for x in interstellar_sentiments['labels']]\n",
        "last_airbender_df[\"Custom Sentiment\"]= [x[0] for x in last_airbender_sentiments['labels']]\n",
        "\n",
        "\n",
        "fig, axs = plt.subplots(1, 2, figsize=(8, 8))\n",
        "\n",
        "sentiment_counts = interstellar_df['custom sentiment'].value_counts()\n",
        "axs[0].pie(sentiment_counts, autopct='%1.1f%%', startangle=90)\n",
        "axs[0].set_title('Interstellar')\n",
        "\n",
        "\n",
        "sentiment_counts = last_airbender_df['custom sentiment'].value_counts()\n",
        "axs[1].pie(sentiment_counts, autopct='%1.1f%%', startangle=90)\n",
        "axs[1].set_title('Last Airbender')\n",
        "\n",
        "legend_labels= [label for label in sentiment_counts.index if label in custom_sentiment_labels]\n",
        "plt.legend(labels=legend_labels, loc='lower right')\n",
        "\n",
        "plt.show()"
      ],
      "metadata": {
        "id": "k8nMe5w2Resy"
      },
      "execution_count": null,
      "outputs": []
    },
    {
      "cell_type": "markdown",
      "source": [
        "#### Genres [3.d]"
      ],
      "metadata": {
        "id": "rmepTG9yEhHS"
      }
    },
    {
      "cell_type": "code",
      "source": [
        "matrix_df = reviews_df[reviews_df[\"Movie\"] == \"The_Matrix\"]\n",
        "sharknado_df = reviews_df[reviews_df[\"Movie\"] == \"sharknado\"]\n",
        "american_psycho_df = reviews_df[reviews_df[\"Movie\"] == \"american_psycho\"]\n",
        "\n",
        "matrix_genres = pd.DataFrame(classifier(list(matrix_df[\"Review Text\"]), candidate_labels=genres))\n",
        "\n",
        "sharknado_genres = pd.DataFrame(classifier(list(sharknado_df[\"Review Text\"]), candidate_labels=genres))\n",
        "\n",
        "american_psycho_genres = pd.DataFrame(classifier(list(american_psycho_df[\"Review Text\"]), candidate_labels=genres))\n"
      ],
      "metadata": {
        "id": "8Win-mK6EpZC"
      },
      "execution_count": null,
      "outputs": []
    }
  ]
}
